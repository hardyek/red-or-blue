{
 "cells": [
  {
   "cell_type": "code",
   "execution_count": 11,
   "metadata": {},
   "outputs": [],
   "source": [
    "import polars as pl\n",
    "import numpy as np"
   ]
  },
  {
   "cell_type": "markdown",
   "metadata": {},
   "source": [
    "Color each integer red, blue or not at all. No double colouring."
   ]
  },
  {
   "cell_type": "code",
   "execution_count": 1,
   "metadata": {},
   "outputs": [],
   "source": [
    "numbers = [\n",
    "    9469287, 1271334, 6712289, 8381842, 2455118,\n",
    "    5992875, 4890524, 1425045, 4681945, 8022348,\n",
    "    6483223, 8081143, 6192770, 1779814, 4443234,\n",
    "    8546532, 8224679, 9222657, 9323386, 5363473,\n",
    "    8541011, 9356134, 7956588, 3696206, 8534543,\n",
    "    4446344, 1728483, 7451212, 7496930, 1966247\n",
    "]"
   ]
  },
  {
   "cell_type": "markdown",
   "metadata": {},
   "source": [
    "Goal: the red numbers add up to the same as the blue numbers."
   ]
  },
  {
   "cell_type": "code",
   "execution_count": null,
   "metadata": {},
   "outputs": [],
   "source": [
    "def iterate_sums(numbers):\n",
    "    n = len(numbers)\n",
    "    \n",
    "    # Iterate over all possible combination lengths\n",
    "    for length in range(1, n + 1):\n",
    "        # Use a list to represent the current combination\n",
    "        combination = [0] * length\n",
    "        \n",
    "        # Initialize the first combination\n",
    "        for i in range(length):\n",
    "            combination[i] = i\n",
    "        \n",
    "        while True:\n",
    "            # Yield the sum of the current combination\n",
    "            yield sum(numbers[i] for i in combination)\n",
    "            \n",
    "            # Generate the next combination\n",
    "            for i in range(length - 1, -1, -1):\n",
    "                if combination[i] < n - length + i:\n",
    "                    combination[i] += 1\n",
    "                    for j in range(i + 1, length):\n",
    "                        combination[j] = combination[j-1] + 1\n",
    "                    break\n",
    "            else:\n",
    "                # If we can't generate the next combination, we're done with this length\n",
    "                break"
   ]
  },
  {
   "cell_type": "code",
   "execution_count": 12,
   "metadata": {},
   "outputs": [],
   "source": [
    "# Define a starting dataframe using the starting values.\n",
    "df = pl.DataFrame(\n",
    "    {\n",
    "        \"total\": numbers,\n",
    "        \"source\": [[num] for num in numbers]\n",
    "    }\n",
    ")"
   ]
  },
  {
   "cell_type": "code",
   "execution_count": 14,
   "metadata": {},
   "outputs": [],
   "source": [
    "n = len(numbers)"
   ]
  },
  {
   "cell_type": "code",
   "execution_count": null,
   "metadata": {},
   "outputs": [],
   "source": [
    "for length in range(1, n + 1):\n",
    "    combination = [0] * length"
   ]
  }
 ],
 "metadata": {
  "kernelspec": {
   "display_name": "Python 3",
   "language": "python",
   "name": "python3"
  },
  "language_info": {
   "codemirror_mode": {
    "name": "ipython",
    "version": 3
   },
   "file_extension": ".py",
   "mimetype": "text/x-python",
   "name": "python",
   "nbconvert_exporter": "python",
   "pygments_lexer": "ipython3",
   "version": "3.12.4"
  }
 },
 "nbformat": 4,
 "nbformat_minor": 2
}
