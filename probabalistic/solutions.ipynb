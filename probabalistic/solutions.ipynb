{
 "cells": [
  {
   "cell_type": "code",
   "execution_count": 9,
   "metadata": {},
   "outputs": [],
   "source": [
    "import pandas as pd\n",
    "import matplotlib.pyplot as plt\n",
    "import ast\n",
    "import matplotlib.dates as mdates\n",
    "from datetime import datetime, timedelta"
   ]
  },
  {
   "cell_type": "code",
   "execution_count": 22,
   "metadata": {},
   "outputs": [],
   "source": [
    "df = pd.read_csv(\"solutions.csv\")"
   ]
  },
  {
   "cell_type": "code",
   "execution_count": 23,
   "metadata": {},
   "outputs": [
    {
     "data": {
      "text/html": [
       "<div>\n",
       "<style scoped>\n",
       "    .dataframe tbody tr th:only-of-type {\n",
       "        vertical-align: middle;\n",
       "    }\n",
       "\n",
       "    .dataframe tbody tr th {\n",
       "        vertical-align: top;\n",
       "    }\n",
       "\n",
       "    .dataframe thead th {\n",
       "        text-align: right;\n",
       "    }\n",
       "</style>\n",
       "<table border=\"1\" class=\"dataframe\">\n",
       "  <thead>\n",
       "    <tr style=\"text-align: right;\">\n",
       "      <th></th>\n",
       "      <th>Red Subset</th>\n",
       "      <th>Blue Subset</th>\n",
       "      <th>Sum</th>\n",
       "      <th>TimeFound</th>\n",
       "    </tr>\n",
       "  </thead>\n",
       "  <tbody>\n",
       "    <tr>\n",
       "      <th>0</th>\n",
       "      <td>(8381842, 2455118, 4890524, 8081143, 6192770, ...</td>\n",
       "      <td>(9469287, 6712289, 5992875, 1425045, 8022348, ...</td>\n",
       "      <td>74901981</td>\n",
       "      <td>1.727822e+09</td>\n",
       "    </tr>\n",
       "    <tr>\n",
       "      <th>1</th>\n",
       "      <td>(8381842, 4890524, 8081143, 8224679, 8541011, ...</td>\n",
       "      <td>(9469287, 6712289, 4681945, 6483223, 1779814, ...</td>\n",
       "      <td>58551298</td>\n",
       "      <td>1.727824e+09</td>\n",
       "    </tr>\n",
       "    <tr>\n",
       "      <th>2</th>\n",
       "      <td>(4681945, 8022348, 6483223, 1779814, 8546532, ...</td>\n",
       "      <td>(9469287, 1271334, 8381842, 2455118, 6192770, ...</td>\n",
       "      <td>58222826</td>\n",
       "      <td>1.727826e+09</td>\n",
       "    </tr>\n",
       "    <tr>\n",
       "      <th>3</th>\n",
       "      <td>(1271334, 2455118, 5992875, 4890524, 6483223, ...</td>\n",
       "      <td>(9469287, 8381842, 4681945, 1779814, 4443234, ...</td>\n",
       "      <td>55666634</td>\n",
       "      <td>1.727827e+09</td>\n",
       "    </tr>\n",
       "    <tr>\n",
       "      <th>4</th>\n",
       "      <td>(1271334, 6712289, 6483223, 8081143, 6192770, ...</td>\n",
       "      <td>(2455118, 5992875, 4890524, 4681945, 8022348, ...</td>\n",
       "      <td>60802152</td>\n",
       "      <td>1.727828e+09</td>\n",
       "    </tr>\n",
       "  </tbody>\n",
       "</table>\n",
       "</div>"
      ],
      "text/plain": [
       "                                          Red Subset  \\\n",
       "0  (8381842, 2455118, 4890524, 8081143, 6192770, ...   \n",
       "1  (8381842, 4890524, 8081143, 8224679, 8541011, ...   \n",
       "2  (4681945, 8022348, 6483223, 1779814, 8546532, ...   \n",
       "3  (1271334, 2455118, 5992875, 4890524, 6483223, ...   \n",
       "4  (1271334, 6712289, 6483223, 8081143, 6192770, ...   \n",
       "\n",
       "                                         Blue Subset       Sum     TimeFound  \n",
       "0  (9469287, 6712289, 5992875, 1425045, 8022348, ...  74901981  1.727822e+09  \n",
       "1  (9469287, 6712289, 4681945, 6483223, 1779814, ...  58551298  1.727824e+09  \n",
       "2  (9469287, 1271334, 8381842, 2455118, 6192770, ...  58222826  1.727826e+09  \n",
       "3  (9469287, 8381842, 4681945, 1779814, 4443234, ...  55666634  1.727827e+09  \n",
       "4  (2455118, 5992875, 4890524, 4681945, 8022348, ...  60802152  1.727828e+09  "
      ]
     },
     "execution_count": 23,
     "metadata": {},
     "output_type": "execute_result"
    }
   ],
   "source": [
    "df.head()"
   ]
  },
  {
   "cell_type": "code",
   "execution_count": 24,
   "metadata": {},
   "outputs": [],
   "source": [
    "df['Red Subset'] = df['Red Subset'].apply(ast.literal_eval)\n",
    "df['Blue Subset'] = df['Blue Subset'].apply(ast.literal_eval)\n",
    "\n",
    "# Calculate the sums of Red and Blue subsets\n",
    "df['Red Sum'] = df['Red Subset'].apply(sum)\n",
    "df['Blue Sum'] = df['Blue Subset'].apply(sum)"
   ]
  },
  {
   "cell_type": "code",
   "execution_count": 25,
   "metadata": {},
   "outputs": [
    {
     "data": {
      "text/html": [
       "<div>\n",
       "<style scoped>\n",
       "    .dataframe tbody tr th:only-of-type {\n",
       "        vertical-align: middle;\n",
       "    }\n",
       "\n",
       "    .dataframe tbody tr th {\n",
       "        vertical-align: top;\n",
       "    }\n",
       "\n",
       "    .dataframe thead th {\n",
       "        text-align: right;\n",
       "    }\n",
       "</style>\n",
       "<table border=\"1\" class=\"dataframe\">\n",
       "  <thead>\n",
       "    <tr style=\"text-align: right;\">\n",
       "      <th></th>\n",
       "      <th>Red Subset</th>\n",
       "      <th>Blue Subset</th>\n",
       "      <th>Sum</th>\n",
       "      <th>TimeFound</th>\n",
       "      <th>Red Sum</th>\n",
       "      <th>Blue Sum</th>\n",
       "    </tr>\n",
       "  </thead>\n",
       "  <tbody>\n",
       "    <tr>\n",
       "      <th>0</th>\n",
       "      <td>(8381842, 2455118, 4890524, 8081143, 6192770, ...</td>\n",
       "      <td>(9469287, 6712289, 5992875, 1425045, 8022348, ...</td>\n",
       "      <td>74901981</td>\n",
       "      <td>1.727822e+09</td>\n",
       "      <td>74901981</td>\n",
       "      <td>74901981</td>\n",
       "    </tr>\n",
       "    <tr>\n",
       "      <th>1</th>\n",
       "      <td>(8381842, 4890524, 8081143, 8224679, 8541011, ...</td>\n",
       "      <td>(9469287, 6712289, 4681945, 6483223, 1779814, ...</td>\n",
       "      <td>58551298</td>\n",
       "      <td>1.727824e+09</td>\n",
       "      <td>58551298</td>\n",
       "      <td>58551297</td>\n",
       "    </tr>\n",
       "    <tr>\n",
       "      <th>2</th>\n",
       "      <td>(4681945, 8022348, 6483223, 1779814, 8546532, ...</td>\n",
       "      <td>(9469287, 1271334, 8381842, 2455118, 6192770, ...</td>\n",
       "      <td>58222826</td>\n",
       "      <td>1.727826e+09</td>\n",
       "      <td>58222826</td>\n",
       "      <td>58222825</td>\n",
       "    </tr>\n",
       "    <tr>\n",
       "      <th>3</th>\n",
       "      <td>(1271334, 2455118, 5992875, 4890524, 6483223, ...</td>\n",
       "      <td>(9469287, 8381842, 4681945, 1779814, 4443234, ...</td>\n",
       "      <td>55666634</td>\n",
       "      <td>1.727827e+09</td>\n",
       "      <td>55666634</td>\n",
       "      <td>55666635</td>\n",
       "    </tr>\n",
       "    <tr>\n",
       "      <th>4</th>\n",
       "      <td>(1271334, 6712289, 6483223, 8081143, 6192770, ...</td>\n",
       "      <td>(2455118, 5992875, 4890524, 4681945, 8022348, ...</td>\n",
       "      <td>60802152</td>\n",
       "      <td>1.727828e+09</td>\n",
       "      <td>60802152</td>\n",
       "      <td>60802152</td>\n",
       "    </tr>\n",
       "  </tbody>\n",
       "</table>\n",
       "</div>"
      ],
      "text/plain": [
       "                                          Red Subset  \\\n",
       "0  (8381842, 2455118, 4890524, 8081143, 6192770, ...   \n",
       "1  (8381842, 4890524, 8081143, 8224679, 8541011, ...   \n",
       "2  (4681945, 8022348, 6483223, 1779814, 8546532, ...   \n",
       "3  (1271334, 2455118, 5992875, 4890524, 6483223, ...   \n",
       "4  (1271334, 6712289, 6483223, 8081143, 6192770, ...   \n",
       "\n",
       "                                         Blue Subset       Sum     TimeFound  \\\n",
       "0  (9469287, 6712289, 5992875, 1425045, 8022348, ...  74901981  1.727822e+09   \n",
       "1  (9469287, 6712289, 4681945, 6483223, 1779814, ...  58551298  1.727824e+09   \n",
       "2  (9469287, 1271334, 8381842, 2455118, 6192770, ...  58222826  1.727826e+09   \n",
       "3  (9469287, 8381842, 4681945, 1779814, 4443234, ...  55666634  1.727827e+09   \n",
       "4  (2455118, 5992875, 4890524, 4681945, 8022348, ...  60802152  1.727828e+09   \n",
       "\n",
       "    Red Sum  Blue Sum  \n",
       "0  74901981  74901981  \n",
       "1  58551298  58551297  \n",
       "2  58222826  58222825  \n",
       "3  55666634  55666635  \n",
       "4  60802152  60802152  "
      ]
     },
     "execution_count": 25,
     "metadata": {},
     "output_type": "execute_result"
    }
   ],
   "source": [
    "df.head()"
   ]
  },
  {
   "cell_type": "code",
   "execution_count": 27,
   "metadata": {},
   "outputs": [],
   "source": [
    "# Check if Red Sum + Blue Sum equals the Sum column\n",
    "df['Sum Check'] = df['Red Sum'] == df['Blue Sum']"
   ]
  },
  {
   "cell_type": "code",
   "execution_count": 30,
   "metadata": {},
   "outputs": [
    {
     "name": "stdout",
     "output_type": "stream",
     "text": [
      "All sums match: False\n",
      "Number of matched rows: 26\n",
      "First few matched rows:\n",
      "     Red Sum  Blue Sum       Sum\n",
      "0   74901981  74901981  74901981\n",
      "4   60802152  60802152  60802152\n",
      "8   55056657  55056657  55056657\n",
      "10  71798086  71798086  71798086\n",
      "13  62315309  62315309  62315309\n"
     ]
    }
   ],
   "source": [
    "# Print correct solutions\n",
    "print(f\"All sums match: {df['Sum Check'].all()}\")\n",
    "if not df['Sum Check'].all():\n",
    "    matched = df[df['Sum Check']]\n",
    "    print(f\"Number of matched rows: {len(matched)}\")\n",
    "    print(\"First few matched rows:\")\n",
    "    print(matched[['Red Sum', 'Blue Sum', 'Sum']].head())"
   ]
  },
  {
   "cell_type": "code",
   "execution_count": 36,
   "metadata": {},
   "outputs": [
    {
     "name": "stdout",
     "output_type": "stream",
     "text": [
      "(8381842, 2455118, 4890524, 8081143, 6192770, 1779814, 8546532, 8541011, 9356134, 3696206, 8534543, 4446344)\n"
     ]
    },
    {
     "data": {
      "text/plain": [
       "74901981"
      ]
     },
     "execution_count": 36,
     "metadata": {},
     "output_type": "execute_result"
    }
   ],
   "source": [
    "print(df[\"Red Subset\"][0])\n",
    "sum(df[\"Red Subset\"][0])"
   ]
  },
  {
   "cell_type": "code",
   "execution_count": 37,
   "metadata": {},
   "outputs": [
    {
     "name": "stdout",
     "output_type": "stream",
     "text": [
      "(9469287, 6712289, 5992875, 1425045, 8022348, 8224679, 9222657, 9323386, 5363473, 1728483, 7451212, 1966247)\n"
     ]
    },
    {
     "data": {
      "text/plain": [
       "74901981"
      ]
     },
     "execution_count": 37,
     "metadata": {},
     "output_type": "execute_result"
    }
   ],
   "source": [
    "print(df[\"Blue Subset\"][0])\n",
    "sum(df[\"Blue Subset\"][0])"
   ]
  },
  {
   "cell_type": "code",
   "execution_count": 43,
   "metadata": {},
   "outputs": [
    {
     "data": {
      "text/plain": [
       "True"
      ]
     },
     "execution_count": 43,
     "metadata": {},
     "output_type": "execute_result"
    }
   ],
   "source": [
    "numbers = {\n",
    "        9469287, 1271334, 6712289, 8381842, 2455118,\n",
    "        5992875, 4890524, 1425045, 4681945, 8022348,\n",
    "        6483223, 8081143, 6192770, 1779814, 4443234,\n",
    "        8546532, 8224679, 9222657, 9323386, 5363473,\n",
    "        8541011, 9356134, 7956588, 3696206, 8534543,\n",
    "        4446344, 1728483, 7451212, 7496930, 1966247\n",
    "    }\n",
    "red_set = set(df[\"Red Subset\"][0])\n",
    "blue_set = set(df[\"Blue Subset\"][0])\n",
    "red_set.isdisjoint(blue_set)"
   ]
  },
  {
   "cell_type": "code",
   "execution_count": 44,
   "metadata": {},
   "outputs": [
    {
     "data": {
      "text/plain": [
       "True"
      ]
     },
     "execution_count": 44,
     "metadata": {},
     "output_type": "execute_result"
    }
   ],
   "source": [
    "red_set <= numbers"
   ]
  },
  {
   "cell_type": "code",
   "execution_count": 45,
   "metadata": {},
   "outputs": [
    {
     "data": {
      "text/plain": [
       "True"
      ]
     },
     "execution_count": 45,
     "metadata": {},
     "output_type": "execute_result"
    }
   ],
   "source": [
    "blue_set <= numbers"
   ]
  },
  {
   "cell_type": "code",
   "execution_count": 28,
   "metadata": {},
   "outputs": [
    {
     "name": "stdout",
     "output_type": "stream",
     "text": [
      "All sums match: False\n",
      "Number of mismatched rows: 46\n",
      "First few mismatched rows:\n",
      "    Red Sum  Blue Sum       Sum\n",
      "1  58551298  58551297  58551298\n",
      "2  58222826  58222825  58222826\n",
      "3  55666634  55666635  55666634\n",
      "5  70669265  70669264  70669265\n",
      "6  64562595  64562594  64562595\n"
     ]
    }
   ],
   "source": [
    "# Print incorrect solutions\n",
    "print(f\"All sums match: {df['Sum Check'].all()}\")\n",
    "if not df['Sum Check'].all():\n",
    "    mismatched = df[~df['Sum Check']]\n",
    "    print(f\"Number of mismatched rows: {len(mismatched)}\")\n",
    "    print(\"First few mismatched rows:\")\n",
    "    print(mismatched[['Red Sum', 'Blue Sum', 'Sum']].head())"
   ]
  },
  {
   "cell_type": "code",
   "execution_count": null,
   "metadata": {},
   "outputs": [],
   "source": [
    "start_time = datetime.min\n",
    "df['TimeFound'] = df['TimeFound'].apply(lambda x: start_time + timedelta(seconds=x))"
   ]
  },
  {
   "cell_type": "code",
   "execution_count": 14,
   "metadata": {},
   "outputs": [
    {
     "data": {
      "image/png": "[encoded data removed]",
      "text/plain": [
       "<Figure size 1200x600 with 1 Axes>"
      ]
     },
     "metadata": {},
     "output_type": "display_data"
    }
   ],
   "source": [
    "plt.figure(figsize=(12, 6))\n",
    "plt.scatter(df['TimeFound'], df.index, marker='x')\n",
    "plt.xlabel('Time Found (HH:MM)')\n",
    "plt.ylabel('Solution Number')\n",
    "plt.title('Solutions Found Over Time')\n",
    "plt.grid(True)\n",
    "\n",
    "plt.gca().xaxis.set_major_formatter(mdates.DateFormatter('%H:%M'))\n",
    "plt.gca().xaxis.set_major_locator(mdates.AutoDateLocator())\n",
    "\n",
    "plt.tight_layout()\n",
    "plt.show()"
   ]
  },
  {
   "cell_type": "code",
   "execution_count": null,
   "metadata": {},
   "outputs": [],
   "source": []
  }
 ],
 "metadata": {
  "kernelspec": {
   "display_name": "fusor",
   "language": "python",
   "name": "python3"
  },
  "language_info": {
   "codemirror_mode": {
    "name": "ipython",
    "version": 3
   },
   "file_extension": ".py",
   "mimetype": "text/x-python",
   "name": "python",
   "nbconvert_exporter": "python",
   "pygments_lexer": "ipython3",
   "version": "3.12.1"
  },
  "orig_nbformat": 4
 },
 "nbformat": 4,
 "nbformat_minor": 2
}
